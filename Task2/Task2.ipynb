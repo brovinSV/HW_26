{
 "cells": [
  {
   "cell_type": "code",
   "execution_count": null,
   "id": "59aa4b97",
   "metadata": {},
   "outputs": [],
   "source": [
    "\"\"\"\n",
    "При вивченні випадкової величини Х у результаті 40 незалежних спостережень дістали вибірку: \n",
    "10, 13, 10, 9, 9, 12, 12, 6, 7, 9, 8, 9, 11, 9, 14, 13, 9, 8, 8, 7, 10, 10, 11, 11, 11, 12, 8, \n",
    "7, 9, 10, 14, 13, 8, 8, 9, 10, 11, 11, 12, 12. Побудувати дискретний статичний розподіл для цієї вибірки,\n",
    "а також полігон частот F*(x). Знайти моду та медіану.\n",
    "\"\"\""
   ]
  },
  {
   "cell_type": "code",
   "execution_count": 1,
   "id": "509fcd44",
   "metadata": {},
   "outputs": [],
   "source": [
    "import matplotlib.pyplot as plt\n",
    "from collections import Counter"
   ]
  },
  {
   "cell_type": "code",
   "execution_count": 2,
   "id": "a9e57a01",
   "metadata": {},
   "outputs": [],
   "source": [
    "# вибірка\n",
    "data = [10, 13, 10, 9, 9, 12, 12, 6, 7, 9, 8, 9, 11, 9, 14, 13, 9, 8, 8, 7, 10, 10, 11, 11, 11, 12, 8, 7, 9, 10, 14, 13, 8, 8, 9, 10, 11, 11, 12, 12]\n"
   ]
  },
  {
   "cell_type": "code",
   "execution_count": 3,
   "id": "bbca9ddb",
   "metadata": {},
   "outputs": [
    {
     "name": "stdout",
     "output_type": "stream",
     "text": [
      "Counter({9: 8, 10: 6, 8: 6, 11: 6, 12: 5, 13: 3, 7: 3, 14: 2, 6: 1})\n"
     ]
    }
   ],
   "source": [
    "# підрахунок частот\n",
    "freq = Counter(data)\n",
    "print(freq)"
   ]
  },
  {
   "cell_type": "code",
   "execution_count": 4,
   "id": "b790cb91",
   "metadata": {},
   "outputs": [
    {
     "name": "stdout",
     "output_type": "stream",
     "text": [
      "9\n"
     ]
    }
   ],
   "source": [
    "# обчислення моди\n",
    "mode = max(freq, key=freq.get)\n",
    "print(mode)"
   ]
  },
  {
   "cell_type": "code",
   "execution_count": 5,
   "id": "d7f50c01",
   "metadata": {},
   "outputs": [
    {
     "name": "stdout",
     "output_type": "stream",
     "text": [
      "10.0\n"
     ]
    }
   ],
   "source": [
    "# обчислення медіани\n",
    "n = len(data)\n",
    "sorted_data = sorted(data)\n",
    "if n % 2 == 0:\n",
    "    median = (sorted_data[n//2-1] + sorted_data[n//2]) / 2\n",
    "else:\n",
    "    median = sorted_data[n//2]\n",
    "print(median)    "
   ]
  },
  {
   "cell_type": "code",
   "execution_count": 8,
   "id": "ac3bb93f",
   "metadata": {},
   "outputs": [
    {
     "data": {
      "image/png": "[encoded data removed]",
      "text/plain": [
       "<Figure size 432x288 with 1 Axes>"
      ]
     },
     "metadata": {
      "needs_background": "light"
     },
     "output_type": "display_data"
    }
   ],
   "source": [
    "# построение полигона частот\n",
    "x = sorted(list(freq.keys()))\n",
    "y = [freq[i] for i in x]\n",
    "plt.plot(x, y, 'o-')\n",
    "plt.title('Полигон частот')\n",
    "plt.xlabel('X')\n",
    "plt.ylabel('Частота')\n",
    "plt.show()"
   ]
  },
  {
   "cell_type": "code",
   "execution_count": 9,
   "id": "deaabdd9",
   "metadata": {},
   "outputs": [
    {
     "name": "stdout",
     "output_type": "stream",
     "text": [
      "Мода: 9\n",
      "Медиана: 10.0\n"
     ]
    }
   ],
   "source": [
    "print('Мода:', mode)\n",
    "print('Медиана:', median)"
   ]
  },
  {
   "cell_type": "code",
   "execution_count": null,
   "id": "3443e669",
   "metadata": {},
   "outputs": [],
   "source": []
  }
 ],
 "metadata": {
  "kernelspec": {
   "display_name": "Python 3",
   "language": "python",
   "name": "python3"
  },
  "language_info": {
   "codemirror_mode": {
    "name": "ipython",
    "version": 3
   },
   "file_extension": ".py",
   "mimetype": "text/x-python",
   "name": "python",
   "nbconvert_exporter": "python",
   "pygments_lexer": "ipython3",
   "version": "3.8.10"
  }
 },
 "nbformat": 4,
 "nbformat_minor": 5
}
