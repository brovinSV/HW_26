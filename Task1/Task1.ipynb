{
 "cells": [
  {
   "cell_type": "code",
   "execution_count": null,
   "id": "760cac28",
   "metadata": {},
   "outputs": [],
   "source": [
    "\"\"\"\n",
    "Ймовірність того, що телевізор витримає гарантійний термін роботи, дорівнює 0,9 для всіх телевізорів, які обслуговує гарантійна майстерня.\n",
    "Оцінити ймовірність того, що число телевізорів, які витримають гарантійний термін роботи, буде в межах [85;95].\n",
    "\"\"\""
   ]
  },
  {
   "cell_type": "code",
   "execution_count": 1,
   "id": "4c467e79",
   "metadata": {},
   "outputs": [],
   "source": [
    "from scipy.stats import norm\n"
   ]
  },
  {
   "cell_type": "code",
   "execution_count": 10,
   "id": "cc2593b0",
   "metadata": {},
   "outputs": [],
   "source": [
    "n = 100 # кількість телевізоров\n",
    "p = 0.9 # ймовірність того, що телевізор витримає гарантійний термін роботи"
   ]
  },
  {
   "cell_type": "code",
   "execution_count": 11,
   "id": "d46e8c4f",
   "metadata": {},
   "outputs": [
    {
     "name": "stdout",
     "output_type": "stream",
     "text": [
      "90.0\n"
     ]
    }
   ],
   "source": [
    "mu = n * p # мат. очікування\n",
    "print(mu)"
   ]
  },
  {
   "cell_type": "code",
   "execution_count": 12,
   "id": "63af0135",
   "metadata": {},
   "outputs": [
    {
     "name": "stdout",
     "output_type": "stream",
     "text": [
      "2.9999999999999996\n"
     ]
    }
   ],
   "source": [
    "sigma = (n * p * (1 - p)) ** 0.5 # стандартне відхилення\n",
    "print(sigma)"
   ]
  },
  {
   "cell_type": "code",
   "execution_count": 13,
   "id": "7b6cf6d0",
   "metadata": {},
   "outputs": [
    {
     "name": "stdout",
     "output_type": "stream",
     "text": [
      "-1.666666666666667\n",
      "1.666666666666667\n"
     ]
    }
   ],
   "source": [
    "z1 = (85 - mu) / sigma\n",
    "print(z1)\n",
    "z2 = (95 - mu) / sigma\n",
    "print(z2)"
   ]
  },
  {
   "cell_type": "code",
   "execution_count": 14,
   "id": "1b08802d",
   "metadata": {},
   "outputs": [],
   "source": [
    "p_between = norm.cdf(z2) - norm.cdf(z1)"
   ]
  },
  {
   "cell_type": "code",
   "execution_count": 15,
   "id": "6235ca93",
   "metadata": {},
   "outputs": [
    {
     "name": "stdout",
     "output_type": "stream",
     "text": [
      "Ймовірність того, що кількість телевізорів, які витримають гарантійний термін роботи, буде в межах [85; 95]: 0.9044192954543706\n"
     ]
    }
   ],
   "source": [
    "print(\"Ймовірність того, що кількість телевізорів, які витримають гарантійний термін роботи, буде в межах [85; 95]:\", p_between)"
   ]
  },
  {
   "cell_type": "code",
   "execution_count": null,
   "id": "95794fdf",
   "metadata": {},
   "outputs": [],
   "source": []
  }
 ],
 "metadata": {
  "kernelspec": {
   "display_name": "Python 3",
   "language": "python",
   "name": "python3"
  },
  "language_info": {
   "codemirror_mode": {
    "name": "ipython",
    "version": 3
   },
   "file_extension": ".py",
   "mimetype": "text/x-python",
   "name": "python",
   "nbconvert_exporter": "python",
   "pygments_lexer": "ipython3",
   "version": "3.8.10"
  }
 },
 "nbformat": 4,
 "nbformat_minor": 5
}
